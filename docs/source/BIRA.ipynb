{
 "cells": [
  {
   "cell_type": "markdown",
   "metadata": {},
   "source": [
    "# Blocked (Stratified) Individual Random Assignment (BIRA)\n",
    "\n",
    "## BIRA2_1c \n",
    "\n",
    "| Assignment | Clustering Level | Treatment Assignment | Treatment Level| Cluster Effect |\n",
    "|:----------:|:----------------:|:--------------------:|:--------------:|:--------------:|\n",
    "| blocked    | 2                | individual           | 1              | constant       |"
   ]
  },
  {
   "cell_type": "markdown",
   "metadata": {},
   "source": [
    "This will :hoverxref:`show a tooltip <hoverxref:hoverxref>` in the linked words to ``hoverxref``.\n"
   ]
  },
  {
   "cell_type": "code",
   "execution_count": 4,
   "metadata": {},
   "outputs": [],
   "source": [
    "from pypowerup import effect_size, power, sample_size"
   ]
  },
  {
   "cell_type": "code",
   "execution_count": 7,
   "metadata": {},
   "outputs": [
    {
     "data": {
      "text/plain": [
       "0.1675746241777643"
      ]
     },
     "execution_count": 7,
     "metadata": {},
     "output_type": "execute_result"
    }
   ],
   "source": [
    "# effect size, i.e., minimum detectable effect sizes (MDES):\n",
    "effect_size(design = \"bira2_1c\", n=80, J=14, power=0.8, alpha=0.05, two_tailed=True, p=0.5, r21=0, g=0)"
   ]
  },
  {
   "cell_type": "code",
   "execution_count": 11,
   "metadata": {},
   "outputs": [
    {
     "data": {
      "text/plain": [
       "14.0"
      ]
     },
     "execution_count": 11,
     "metadata": {},
     "output_type": "execute_result"
    }
   ],
   "source": [
    "# sample_size, i.e., minimum required samples sizes (MRSS) for level 2 units. \n",
    "sample_size(design = \"bira2_1c\", n=80, es=0.168, power=0.8, alpha=0.05, two_tailed=True, p=0.5, r21=0, g=0)"
   ]
  },
  {
   "cell_type": "code",
   "execution_count": 12,
   "metadata": {},
   "outputs": [
    {
     "data": {
      "text/plain": [
       "0.801986386400488"
      ]
     },
     "execution_count": 12,
     "metadata": {},
     "output_type": "execute_result"
    }
   ],
   "source": [
    "# power\n",
    "power(design = \"bira2_1c\", n=80, J=14, es=0.168, alpha=0.05, two_tailed=True, p=0.5, r21=0, g=0)"
   ]
  },
  {
   "cell_type": "markdown",
   "metadata": {},
   "source": [
    "**Parameters for BIRA2_1c:**"
   ]
  },
  {
   "cell_type": "raw",
   "metadata": {},
   "source": [
    "<table border=\"1\" class=\"docutils\">\n",
    "<colgroup>\n",
    "<col width=\"32%\" />\n",
    "<col width=\"26%\" />\n",
    "<col width=\"26%\" />\n",
    "<col width=\"16%\" />\n",
    "</colgroup>\n",
    "<thead valign=\"bottom\">\n",
    "<tr class=\"row-odd\"><th class=\"head\">Parameters</th>\n",
    "<th class=\"head\"><code class=\"docutils literal notranslate\"><span class=\"pre\">effect_size</span></code></th>\n",
    "<th class=\"head\"><code class=\"docutils literal notranslate\"><span class=\"pre\">sample_size</span></code></th>\n",
    "<th class=\"head\"><code class=\"docutils literal notranslate\"><span class=\"pre\">power</span></code></th>\n",
    "</tr>\n",
    "</thead>\n",
    "<tbody valign=\"top\">\n",
    "<tr class=\"row-even\"><td><a class=\"hoverxref tooltip reference internal\" data-doc=\"parameters\" data-docpath=\"/parameters.html\" data-project=\"pypowerup\" data-section=\"design\" data-version=\"latest\" href=\"parameters.html#design\"><span class=\"std std-ref\">design</span></a></td>\n",
    "<td>✓</td>\n",
    "<td>✓</td>\n",
    "<td>✓</td>\n",
    "</tr>\n",
    "<tr class=\"row-odd\"><td><a class=\"hoverxref tooltip reference internal\" data-doc=\"parameters\" data-docpath=\"/parameters.html\" data-project=\"pypowerup\" data-section=\"n\" data-version=\"latest\" href=\"parameters.html#n\"><span class=\"std std-ref\">n</span></a></td>\n",
    "<td>✓</td>\n",
    "<td>&#160;</td>\n",
    "<td>✓</td>\n",
    "</tr>\n",
    "<tr class=\"row-odd\"><td><a class=\"hoverxref tooltip reference internal\" data-doc=\"parameters\" data-docpath=\"/parameters.html\" data-project=\"pypowerup\" data-section=\"power\" data-version=\"latest\" href=\"parameters.html#power\"><span class=\"std std-ref\">power</span></a></td>\n",
    "<td>✓</td>\n",
    "<td>✓</td>\n",
    "<td>&#160;</td>\n",
    "</tr>\n",
    "<tr class=\"row-odd\"><td><a class=\"hoverxref tooltip reference internal\" data-doc=\"parameters\" data-docpath=\"/parameters.html\" data-project=\"pypowerup\" data-section=\"alpha\" data-version=\"latest\" href=\"parameters.html#alpha\"><span class=\"std std-ref\">alpha</span></a></td>\n",
    "<td>✓</td>\n",
    "<td>✓</td>\n",
    "<td>✓</td>\n",
    "</tr>\n",
    "<tr class=\"row-even\"><td><a class=\"hoverxref tooltip reference internal\" data-doc=\"parameters\" data-docpath=\"/parameters.html\" data-project=\"pypowerup\" data-section=\"two-tailed\" data-version=\"latest\" href=\"parameters.html#two-tailed\"><span class=\"std std-ref\">two_tailed</span></a></td>\n",
    "<td>✓</td>\n",
    "<td>✓</td>\n",
    "<td>✓</td>\n",
    "</tr>\n",
    "<tr class=\"row-odd\"><td><a class=\"hoverxref tooltip reference internal\" data-doc=\"parameters\" data-docpath=\"/parameters.html\" data-project=\"pypowerup\" data-section=\"p\" data-version=\"latest\" href=\"parameters.html#p\"><span class=\"std std-ref\">p</span></a></td>\n",
    "<td>✓</td>\n",
    "<td>✓</td>\n",
    "<td>✓</td>\n",
    "</tr>\n",
    "<tr class=\"row-even\"><td><a class=\"hoverxref tooltip reference internal\" data-doc=\"parameters\" data-docpath=\"/parameters.html\" data-project=\"pypowerup\" data-section=\"r21\" data-version=\"latest\" href=\"parameters.html#r21\"><span class=\"std std-ref\">r21</span></a></td>\n",
    "<td>✓</td>\n",
    "<td>✓</td>\n",
    "<td>✓</td>\n",
    "</tr>\n",
    "<tr class=\"row-odd\"><td><a class=\"hoverxref tooltip reference internal\" data-doc=\"parameters\" data-docpath=\"/parameters.html\" data-project=\"pypowerup\" data-section=\"g\" data-version=\"latest\" href=\"parameters.html#g\"><span class=\"std std-ref\">g</span></a></td>\n",
    "<td>✓</td>\n",
    "<td>✓</td>\n",
    "<td>✓</td>\n",
    "</tr>\n",
    "<tr class=\"row-even\"><td><a class=\"hoverxref tooltip reference internal\" data-doc=\"parameters\" data-docpath=\"/parameters.html\" data-project=\"pypowerup\" data-section=\"J\" data-version=\"latest\" href=\"parameters.html#J\"><span class=\"std std-ref\">J</span></a></td>\n",
    "<td>✓</td>\n",
    "<td>✓</td>\n",
    "<td>✓</td>\n",
    "</tr>\n",
    "\n",
    "</tbody>\n",
    "</table>"
   ]
  },
  {
   "cell_type": "markdown",
   "metadata": {},
   "source": [
    "## BIRA2_1f \n",
    "\n",
    "| Assignment | Clustering Level | Treatment Assignment | Treatment Level| Cluster Effect |\n",
    "|:----------:|:----------------:|:--------------------:|:--------------:|:--------------:|\n",
    "| blocked    | 2                | individual           | 1              | fixed          |\n"
   ]
  },
  {
   "cell_type": "code",
   "execution_count": 25,
   "metadata": {},
   "outputs": [
    {
     "data": {
      "text/plain": [
       "0.1253671054395026"
      ]
     },
     "execution_count": 25,
     "metadata": {},
     "output_type": "execute_result"
    }
   ],
   "source": [
    "# effect size, i.e., minimum detectable effect sizes (MDES):\n",
    "effect_size(design = \"bira2_1f\", n=10, J=200, power=0.8, alpha=0.05, two_tailed=True, p=0.5, r21=0, g=0)"
   ]
  },
  {
   "cell_type": "code",
   "execution_count": 26,
   "metadata": {},
   "outputs": [
    {
     "data": {
      "text/plain": [
       "201.0"
      ]
     },
     "execution_count": 26,
     "metadata": {},
     "output_type": "execute_result"
    }
   ],
   "source": [
    "# sample_size, i.e., minimum required samples sizes (MRSS) for level 2 units. \n",
    "sample_size(design = \"bira2_1f\", n=10, es=0.125, power=0.8, alpha=0.05, two_tailed=True, p=0.5, r21=0, g=0)"
   ]
  },
  {
   "cell_type": "code",
   "execution_count": 24,
   "metadata": {},
   "outputs": [
    {
     "data": {
      "text/plain": [
       "0.7976961337604935"
      ]
     },
     "execution_count": 24,
     "metadata": {},
     "output_type": "execute_result"
    }
   ],
   "source": [
    "# power\n",
    "power(design = \"bira2_1f\", n=10, J=200, es=0.125, alpha=0.05, two_tailed=True, p=0.5, r21=0, g=0)"
   ]
  },
  {
   "cell_type": "markdown",
   "metadata": {},
   "source": [
    "**Parameters for BIRA2_1f**"
   ]
  },
  {
   "cell_type": "raw",
   "metadata": {},
   "source": [
    "<table border=\"1\" class=\"docutils\">\n",
    "<colgroup>\n",
    "<col width=\"32%\" />\n",
    "<col width=\"26%\" />\n",
    "<col width=\"26%\" />\n",
    "<col width=\"16%\" />\n",
    "</colgroup>\n",
    "<thead valign=\"bottom\">\n",
    "<tr class=\"row-odd\"><th class=\"head\">Parameters</th>\n",
    "<th class=\"head\"><code class=\"docutils literal notranslate\"><span class=\"pre\">effect_size</span></code></th>\n",
    "<th class=\"head\"><code class=\"docutils literal notranslate\"><span class=\"pre\">sample_size</span></code></th>\n",
    "<th class=\"head\"><code class=\"docutils literal notranslate\"><span class=\"pre\">power</span></code></th>\n",
    "</tr>\n",
    "</thead>\n",
    "<tbody valign=\"top\">\n",
    "<tr class=\"row-even\"><td><a class=\"hoverxref tooltip reference internal\" data-doc=\"parameters\" data-docpath=\"/parameters.html\" data-project=\"pypowerup\" data-section=\"design\" data-version=\"latest\" href=\"parameters.html#design\"><span class=\"std std-ref\">design</span></a></td>\n",
    "<td>✓</td>\n",
    "<td>✓</td>\n",
    "<td>✓</td>\n",
    "</tr>\n",
    "<tr class=\"row-odd\"><td><a class=\"hoverxref tooltip reference internal\" data-doc=\"parameters\" data-docpath=\"/parameters.html\" data-project=\"pypowerup\" data-section=\"n\" data-version=\"latest\" href=\"parameters.html#n\"><span class=\"std std-ref\">n</span></a></td>\n",
    "<td>✓</td>\n",
    "<td>&#160;</td>\n",
    "<td>✓</td>\n",
    "</tr>\n",
    "<tr class=\"row-odd\"><td><a class=\"hoverxref tooltip reference internal\" data-doc=\"parameters\" data-docpath=\"/parameters.html\" data-project=\"pypowerup\" data-section=\"power\" data-version=\"latest\" href=\"parameters.html#power\"><span class=\"std std-ref\">power</span></a></td>\n",
    "<td>✓</td>\n",
    "<td>✓</td>\n",
    "<td>&#160;</td>\n",
    "</tr>\n",
    "<tr class=\"row-odd\"><td><a class=\"hoverxref tooltip reference internal\" data-doc=\"parameters\" data-docpath=\"/parameters.html\" data-project=\"pypowerup\" data-section=\"alpha\" data-version=\"latest\" href=\"parameters.html#alpha\"><span class=\"std std-ref\">alpha</span></a></td>\n",
    "<td>✓</td>\n",
    "<td>✓</td>\n",
    "<td>✓</td>\n",
    "</tr>\n",
    "<tr class=\"row-even\"><td><a class=\"hoverxref tooltip reference internal\" data-doc=\"parameters\" data-docpath=\"/parameters.html\" data-project=\"pypowerup\" data-section=\"two-tailed\" data-version=\"latest\" href=\"parameters.html#two-tailed\"><span class=\"std std-ref\">two_tailed</span></a></td>\n",
    "<td>✓</td>\n",
    "<td>✓</td>\n",
    "<td>✓</td>\n",
    "</tr>\n",
    "<tr class=\"row-odd\"><td><a class=\"hoverxref tooltip reference internal\" data-doc=\"parameters\" data-docpath=\"/parameters.html\" data-project=\"pypowerup\" data-section=\"p\" data-version=\"latest\" href=\"parameters.html#p\"><span class=\"std std-ref\">p</span></a></td>\n",
    "<td>✓</td>\n",
    "<td>✓</td>\n",
    "<td>✓</td>\n",
    "</tr>\n",
    "<tr class=\"row-even\"><td><a class=\"hoverxref tooltip reference internal\" data-doc=\"parameters\" data-docpath=\"/parameters.html\" data-project=\"pypowerup\" data-section=\"r21\" data-version=\"latest\" href=\"parameters.html#r21\"><span class=\"std std-ref\">r21</span></a></td>\n",
    "<td>✓</td>\n",
    "<td>✓</td>\n",
    "<td>✓</td>\n",
    "</tr>\n",
    "<tr class=\"row-odd\"><td><a class=\"hoverxref tooltip reference internal\" data-doc=\"parameters\" data-docpath=\"/parameters.html\" data-project=\"pypowerup\" data-section=\"g\" data-version=\"latest\" href=\"parameters.html#g\"><span class=\"std std-ref\">g</span></a></td>\n",
    "<td>✓</td>\n",
    "<td>✓</td>\n",
    "<td>✓</td>\n",
    "</tr>\n",
    "<tr class=\"row-even\"><td><a class=\"hoverxref tooltip reference internal\" data-doc=\"parameters\" data-docpath=\"/parameters.html\" data-project=\"pypowerup\" data-section=\"J\" data-version=\"latest\" href=\"parameters.html#J\"><span class=\"std std-ref\">J</span></a></td>\n",
    "<td>✓</td>\n",
    "<td>✓</td>\n",
    "<td>✓</td>\n",
    "</tr>\n",
    "\n",
    "</tbody>\n",
    "</table>"
   ]
  },
  {
   "cell_type": "markdown",
   "metadata": {},
   "source": [
    "## BIRA2_1r\n",
    "\n",
    "| Assignment | Clustering Level | Treatment Assignment | Treatment Level| Cluster Effect |\n",
    "|:----------:|:----------------:|:--------------------:|:--------------:|:--------------:|\n",
    "| blocked    | 2                | individual           | 1              | random         |\n",
    "\n"
   ]
  },
  {
   "cell_type": "code",
   "execution_count": 35,
   "metadata": {},
   "outputs": [
    {
     "data": {
      "text/plain": [
       "0.033290496240165834"
      ]
     },
     "execution_count": 35,
     "metadata": {},
     "output_type": "execute_result"
    }
   ],
   "source": [
    "# effect size, i.e., minimum detectable effect sizes (MDES)\n",
    "effect_size(design = \"bira2_1r\", n=80, J=480, rho2=0.35, omega2=0.1, power=0.8, alpha=0.05, two_tailed=True, p=0.5, r21=0, r2t2=0, g=0)"
   ]
  },
  {
   "cell_type": "code",
   "execution_count": 36,
   "metadata": {},
   "outputs": [
    {
     "data": {
      "text/plain": [
       "480.0"
      ]
     },
     "execution_count": 36,
     "metadata": {},
     "output_type": "execute_result"
    }
   ],
   "source": [
    "# sample_size, i.e., minimum required samples sizes (MRSS) for level 2 units\n",
    "sample_size(design = \"bira2_1r\", es=0.033290496240165834, n=80, rho2=0.35, omega2=0.1, power=0.8, alpha=0.05, two_tailed=True, p=0.5, r21=0, r2t2=0, g=0)"
   ]
  },
  {
   "cell_type": "code",
   "execution_count": 37,
   "metadata": {},
   "outputs": [
    {
     "data": {
      "text/plain": [
       "0.800001211704756"
      ]
     },
     "execution_count": 37,
     "metadata": {},
     "output_type": "execute_result"
    }
   ],
   "source": [
    "# power \n",
    "power(design = \"bira2_1r\", es=0.033290496240165834, n=80, J=480, rho2=0.35, omega2=0.1, alpha=0.05, two_tailed=True, p=0.5, r21=0, r2t2=0, g=0)"
   ]
  },
  {
   "cell_type": "markdown",
   "metadata": {},
   "source": [
    "**Parameters for BIRA2_1r**"
   ]
  },
  {
   "cell_type": "raw",
   "metadata": {},
   "source": [
    "<table border=\"1\" class=\"docutils\">\n",
    "<colgroup>\n",
    "<col width=\"32%\" />\n",
    "<col width=\"26%\" />\n",
    "<col width=\"26%\" />\n",
    "<col width=\"16%\" />\n",
    "</colgroup>\n",
    "<thead valign=\"bottom\">\n",
    "<tr class=\"row-odd\"><th class=\"head\">Parameters</th>\n",
    "<th class=\"head\"><code class=\"docutils literal notranslate\"><span class=\"pre\">effect_size</span></code></th>\n",
    "<th class=\"head\"><code class=\"docutils literal notranslate\"><span class=\"pre\">sample_size</span></code></th>\n",
    "<th class=\"head\"><code class=\"docutils literal notranslate\"><span class=\"pre\">power</span></code></th>\n",
    "</tr>\n",
    "</thead>\n",
    "<tbody valign=\"top\">\n",
    "<tr class=\"row-even\"><td><a class=\"hoverxref tooltip reference internal\" data-doc=\"parameters\" data-docpath=\"/parameters.html\" data-project=\"pypowerup\" data-section=\"design\" data-version=\"latest\" href=\"parameters.html#design\"><span class=\"std std-ref\">design</span></a></td>\n",
    "<td>✓</td>\n",
    "<td>✓</td>\n",
    "<td>✓</td>\n",
    "</tr>\n",
    "<tr class=\"row-odd\"><td><a class=\"hoverxref tooltip reference internal\" data-doc=\"parameters\" data-docpath=\"/parameters.html\" data-project=\"pypowerup\" data-section=\"n\" data-version=\"latest\" href=\"parameters.html#n\"><span class=\"std std-ref\">n</span></a></td>\n",
    "<td>✓</td>\n",
    "<td>&#160;</td>\n",
    "<td>✓</td>\n",
    "</tr>\n",
    "<tr class=\"row-odd\"><td><a class=\"hoverxref tooltip reference internal\" data-doc=\"parameters\" data-docpath=\"/parameters.html\" data-project=\"pypowerup\" data-section=\"power\" data-version=\"latest\" href=\"parameters.html#power\"><span class=\"std std-ref\">power</span></a></td>\n",
    "<td>✓</td>\n",
    "<td>✓</td>\n",
    "<td>&#160;</td>\n",
    "</tr>\n",
    "<tr class=\"row-odd\"><td><a class=\"hoverxref tooltip reference internal\" data-doc=\"parameters\" data-docpath=\"/parameters.html\" data-project=\"pypowerup\" data-section=\"alpha\" data-version=\"latest\" href=\"parameters.html#alpha\"><span class=\"std std-ref\">alpha</span></a></td>\n",
    "<td>✓</td>\n",
    "<td>✓</td>\n",
    "<td>✓</td>\n",
    "</tr>\n",
    "<tr class=\"row-even\"><td><a class=\"hoverxref tooltip reference internal\" data-doc=\"parameters\" data-docpath=\"/parameters.html\" data-project=\"pypowerup\" data-section=\"two-tailed\" data-version=\"latest\" href=\"parameters.html#two-tailed\"><span class=\"std std-ref\">two_tailed</span></a></td>\n",
    "<td>✓</td>\n",
    "<td>✓</td>\n",
    "<td>✓</td>\n",
    "</tr>\n",
    "<tr class=\"row-odd\"><td><a class=\"hoverxref tooltip reference internal\" data-doc=\"parameters\" data-docpath=\"/parameters.html\" data-project=\"pypowerup\" data-section=\"p\" data-version=\"latest\" href=\"parameters.html#p\"><span class=\"std std-ref\">p</span></a></td>\n",
    "<td>✓</td>\n",
    "<td>✓</td>\n",
    "<td>✓</td>\n",
    "</tr>\n",
    "<tr class=\"row-even\"><td><a class=\"hoverxref tooltip reference internal\" data-doc=\"parameters\" data-docpath=\"/parameters.html\" data-project=\"pypowerup\" data-section=\"r21\" data-version=\"latest\" href=\"parameters.html#r21\"><span class=\"std std-ref\">r21</span></a></td>\n",
    "<td>✓</td>\n",
    "<td>✓</td>\n",
    "<td>✓</td>\n",
    "</tr>\n",
    "<tr class=\"row-odd\"><td><a class=\"hoverxref tooltip reference internal\" data-doc=\"parameters\" data-docpath=\"/parameters.html\" data-project=\"pypowerup\" data-section=\"g\" data-version=\"latest\" href=\"parameters.html#g\"><span class=\"std std-ref\">g</span></a></td>\n",
    "<td>✓</td>\n",
    "<td>✓</td>\n",
    "<td>✓</td>\n",
    "</tr>\n",
    "<tr class=\"row-even\"><td><a class=\"hoverxref tooltip reference internal\" data-doc=\"parameters\" data-docpath=\"/parameters.html\" data-project=\"pypowerup\" data-section=\"J\" data-version=\"latest\" href=\"parameters.html#J\"><span class=\"std std-ref\">J</span></a></td>\n",
    "<td>✓</td>\n",
    "<td>✓</td>\n",
    "<td>✓</td>\n",
    "</tr>\n",
    "<tr class=\"row-odd\"><td><a class=\"hoverxref tooltip reference internal\" data-doc=\"parameters\" data-docpath=\"/parameters.html\" data-project=\"pypowerup\" data-section=\"rho2\" data-version=\"latest\" href=\"parameters.html#rho2\"><span class=\"std std-ref\">rho2</span></a></td>\n",
    "<td>✓</td>\n",
    "<td>✓</td>\n",
    "<td>✓</td>\n",
    "</tr>\n",
    "<tr class=\"row-odd\"><td><a class=\"hoverxref tooltip reference internal\" data-doc=\"parameters\" data-docpath=\"/parameters.html\" data-project=\"pypowerup\" data-section=\"omega2\" data-version=\"latest\" href=\"parameters.html#omega2\"><span class=\"std std-ref\">omega2</span></a></td>\n",
    "<td>✓</td>\n",
    "<td>✓</td>\n",
    "<td>✓</td>\n",
    "</tr>\n",
    "\n",
    "</tbody>\n",
    "</table>"
   ]
  },
  {
   "cell_type": "markdown",
   "metadata": {},
   "source": [
    "## BIRA3_1r\n",
    "\n",
    "| Assignment | Clustering Level | Treatment Assignment | Treatment Level| Cluster Effect |\n",
    "|:----------:|:----------------:|:--------------------:|:--------------:|:--------------:|\n",
    "| blocked    | 3                | individual           | 1              | random         |\n",
    "\n"
   ]
  },
  {
   "cell_type": "markdown",
   "metadata": {},
   "source": [
    "## BIRA4_1r\n",
    "\n",
    "| Assignment | Clustering Level | Treatment Assignment | Treatment Level| Cluster Effect |\n",
    "|:----------:|:----------------:|:--------------------:|:--------------:|:--------------:|\n",
    "| blocked    | 4                | individual           | 1              | random         |\n"
   ]
  },
  {
   "cell_type": "code",
   "execution_count": null,
   "metadata": {},
   "outputs": [],
   "source": []
  }
 ],
 "metadata": {
  "kernelspec": {
   "display_name": "Python 3",
   "language": "python",
   "name": "python3"
  },
  "language_info": {
   "codemirror_mode": {
    "name": "ipython",
    "version": 3
   },
   "file_extension": ".py",
   "mimetype": "text/x-python",
   "name": "python",
   "nbconvert_exporter": "python",
   "pygments_lexer": "ipython3",
   "version": "3.7.7"
  }
 },
 "nbformat": 4,
 "nbformat_minor": 4
}
