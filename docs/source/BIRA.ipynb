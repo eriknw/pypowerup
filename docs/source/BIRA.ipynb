{
 "cells": [
  {
   "cell_type": "markdown",
   "metadata": {},
   "source": [
    "# Blocked (Stratified) Individual Random Assignment (BIRA)\n",
    "\n",
    "## BIRA2_1c \n",
    "\n",
    "| Assignment | Clustering Level | Treatment Assignment | Treatment Level| Cluster Effect |\n",
    "|:----------:|:----------------:|:--------------------:|:--------------:|:--------------:|\n",
    "| blocked    | 2                | individual           | 1              | constant       |"
   ]
  },
  {
   "cell_type": "markdown",
   "metadata": {},
   "source": [
    "This will :hoverxref:`show a tooltip <hoverxref:hoverxref>` in the linked words to ``hoverxref``.\n"
   ]
  },
  {
   "cell_type": "code",
   "execution_count": 4,
   "metadata": {},
   "outputs": [],
   "source": [
    "from pypowerup import effect_size, power, sample_size"
   ]
  },
  {
   "cell_type": "code",
   "execution_count": 7,
   "metadata": {},
   "outputs": [
    {
     "data": {
      "text/plain": [
       "0.1675746241777643"
      ]
     },
     "execution_count": 7,
     "metadata": {},
     "output_type": "execute_result"
    }
   ],
   "source": [
    "# effect size, i.e., minimum detectable effect sizes (MDES):\n",
    "effect_size(design = \"bira2_1c\", n=80, J=14, power=0.8, alpha=0.05, two_tailed=True, p=0.5, r21=0, g=0)"
   ]
  },
  {
   "cell_type": "code",
   "execution_count": 11,
   "metadata": {},
   "outputs": [
    {
     "data": {
      "text/plain": [
       "14.0"
      ]
     },
     "execution_count": 11,
     "metadata": {},
     "output_type": "execute_result"
    }
   ],
   "source": [
    "# sample_size, i.e., minimum required samples sizes (MRSS) for level 2 units. \n",
    "sample_size(design = \"bira2_1c\", n=80, es=0.168, power=0.8, alpha=0.05, two_tailed=True, p=0.5, r21=0, g=0)"
   ]
  },
  {
   "cell_type": "code",
   "execution_count": 12,
   "metadata": {},
   "outputs": [
    {
     "data": {
      "text/plain": [
       "0.801986386400488"
      ]
     },
     "execution_count": 12,
     "metadata": {},
     "output_type": "execute_result"
    }
   ],
   "source": [
    "# power\n",
    "power(design = \"bira2_1c\", n=80, J=14, es=0.168, alpha=0.05, two_tailed=True, p=0.5, r21=0, g=0)"
   ]
  },
  {
   "cell_type": "markdown",
   "metadata": {},
   "source": [
    "**Parameters for BIRA2_1c:**\n",
    "\n",
    "| Parameters |`effect_size` | `sample_size` | `power`| \n",
    "|:----------:|:----------------:|:--------------------:|:--------------:|\n",
    "| <a class=\"hoverxref tooltip reference internal\" data-doc=\"parameters\" data-docpath=\"/parameters.html\" data-project=\"pypowerup\" data-section=\"design\" data-version=\"latest\" href=\"parameters.html#design\"><span class=\"std std-ref\">design</span></a>     | &check;          | &check;              | &check;        | \n",
    "| es         |                  | &check;              | &check;        | \n",
    "| n          | &check;          | &check;              | &check;        | \n",
    "| J          | &check;          |                      | &check;        | \n",
    "| power      | &check;          | &check;              |                | \n",
    "| alpha      | &check;          | &check;              | &check;        | \n",
    "| two_tailed | &check;          | &check;              | &check;        | \n",
    "| p          | &check;          | &check;              | &check;        | \n",
    "| r21        | &check;          | &check;              | &check;        | \n",
    "| g          | &check;          | &check;              | &check;        | \n",
    "\n",
    "\n",
    "- **design**: please specify your study design \n",
    "\n",
    "- **n**: Mean number of Level 1 units per Level 2 cluster (harmonic mean recommended). \n",
    "\n",
    "- **J**: Number of level 2 units.\n",
    "\n",
    "- **es**: minimum detectable effect sizes, default 0.25. Please change this value according to your design.\n",
    "\n",
    "- **power**: statistical power, 1- Type II error,  default 0.8 (recommended).\n",
    "\n",
    "- **alpha**: Type I error, default 0.05 (recommended).\n",
    "\n",
    "- **two_taied**: whether it is a two-tailed test or a one-tailed test. default True (two-tailed test). \n",
    "\n",
    "- **p**: proportion of the treatment sample $\\frac{n_T}{(n_T+n_C)}$, default 0.50 (i.e., equal samples size for treatment and control)\n",
    "\n",
    "- **r21**: percent of variance in outcome explained by covariates, default 0 \n",
    "\n",
    "- **g**: number of covariates, default 0\n"
   ]
  },
  {
   "cell_type": "markdown",
   "metadata": {},
   "source": [
    "## BIRA2_1f \n",
    "\n",
    "| Assignment | Clustering Level | Treatment Assignment | Treatment Level| Cluster Effect |\n",
    "|:----------:|:----------------:|:--------------------:|:--------------:|:--------------:|\n",
    "| blocked    | 2                | individual           | 1              | fixed          |\n"
   ]
  },
  {
   "cell_type": "code",
   "execution_count": 25,
   "metadata": {},
   "outputs": [
    {
     "data": {
      "text/plain": [
       "0.1253671054395026"
      ]
     },
     "execution_count": 25,
     "metadata": {},
     "output_type": "execute_result"
    }
   ],
   "source": [
    "# effect size, i.e., minimum detectable effect sizes (MDES):\n",
    "effect_size(design = \"bira2_1f\", n=10, J=200, power=0.8, alpha=0.05, two_tailed=True, p=0.5, r21=0, g=0)"
   ]
  },
  {
   "cell_type": "code",
   "execution_count": 26,
   "metadata": {},
   "outputs": [
    {
     "data": {
      "text/plain": [
       "201.0"
      ]
     },
     "execution_count": 26,
     "metadata": {},
     "output_type": "execute_result"
    }
   ],
   "source": [
    "# sample_size, i.e., minimum required samples sizes (MRSS) for level 2 units. \n",
    "sample_size(design = \"bira2_1f\", n=10, es=0.125, power=0.8, alpha=0.05, two_tailed=True, p=0.5, r21=0, g=0)"
   ]
  },
  {
   "cell_type": "code",
   "execution_count": 24,
   "metadata": {},
   "outputs": [
    {
     "data": {
      "text/plain": [
       "0.7976961337604935"
      ]
     },
     "execution_count": 24,
     "metadata": {},
     "output_type": "execute_result"
    }
   ],
   "source": [
    "# power\n",
    "power(design = \"bira2_1f\", n=10, J=200, es=0.125, alpha=0.05, two_tailed=True, p=0.5, r21=0, g=0)"
   ]
  },
  {
   "cell_type": "markdown",
   "metadata": {},
   "source": [
    "**Parameters for BIRA2_1f:**\n",
    "\n",
    "| Parameters |`effect_size` | `sample_size` | `power`| \n",
    "|:----------:|:----------------:|:--------------------:|:--------------:|\n",
    "| design     | &check;          | &check;              | &check;        | \n",
    "| es         |                  | &check;              | &check;        | \n",
    "| n          | &check;          | &check;              | &check;        | \n",
    "| J          | &check;          |                      | &check;        | \n",
    "| power      | &check;          | &check;              |                | \n",
    "| alpha      | &check;          | &check;              | &check;        | \n",
    "| two_tailed | &check;          | &check;              | &check;        | \n",
    "| p          | &check;          | &check;              | &check;        | \n",
    "| r21        | &check;          | &check;              | &check;        | \n",
    "| g          | &check;          | &check;              | &check;        | \n",
    "\n",
    "\n",
    "- **design**: please specify your study design \n",
    "\n",
    "- **n**: Mean number of Level 1 units per Level 2 cluster (harmonic mean recommended). \n",
    "\n",
    "- **J**: Number of level 2 units.\n",
    "\n",
    "- **es**: minimum detectable effect sizes, default 0.25. Please change this value according to your design.\n",
    "\n",
    "- **power**: statistical power, 1- Type II error,  default 0.8 (recommended).\n",
    "\n",
    "- **alpha**: Type I error, default 0.05 (recommended).\n",
    "\n",
    "- **two_taied**: whether it is a two-tailed test or a one-tailed test. default True (two-tailed test). \n",
    "\n",
    "- **p**: proportion of the treatment sample $\\frac{n_T}{(n_T+n_C)}$, default 0.50 (i.e., equal samples size for treatment and control)\n",
    "\n",
    "- **r21**: percent of variance in outcome explained by covariates, default 0 \n",
    "\n",
    "- **g**: number of covariates, default 0\n"
   ]
  },
  {
   "cell_type": "markdown",
   "metadata": {},
   "source": [
    "## BIRA2_1r\n",
    "\n",
    "| Assignment | Clustering Level | Treatment Assignment | Treatment Level| Cluster Effect |\n",
    "|:----------:|:----------------:|:--------------------:|:--------------:|:--------------:|\n",
    "| blocked    | 2                | individual           | 1              | random         |\n",
    "\n"
   ]
  },
  {
   "cell_type": "code",
   "execution_count": 35,
   "metadata": {},
   "outputs": [
    {
     "data": {
      "text/plain": [
       "0.033290496240165834"
      ]
     },
     "execution_count": 35,
     "metadata": {},
     "output_type": "execute_result"
    }
   ],
   "source": [
    "# effect size, i.e., minimum detectable effect sizes (MDES)\n",
    "effect_size(design = \"bira2_1r\", n=80, J=480, rho2=0.35, omega2=0.1, power=0.8, alpha=0.05, two_tailed=True, p=0.5, r21=0, r2t2=0, g=0)"
   ]
  },
  {
   "cell_type": "code",
   "execution_count": 36,
   "metadata": {},
   "outputs": [
    {
     "data": {
      "text/plain": [
       "480.0"
      ]
     },
     "execution_count": 36,
     "metadata": {},
     "output_type": "execute_result"
    }
   ],
   "source": [
    "# sample_size, i.e., minimum required samples sizes (MRSS) for level 2 units\n",
    "sample_size(design = \"bira2_1r\", es=0.033290496240165834, n=80, rho2=0.35, omega2=0.1, power=0.8, alpha=0.05, two_tailed=True, p=0.5, r21=0, r2t2=0, g=0)"
   ]
  },
  {
   "cell_type": "code",
   "execution_count": 37,
   "metadata": {},
   "outputs": [
    {
     "data": {
      "text/plain": [
       "0.800001211704756"
      ]
     },
     "execution_count": 37,
     "metadata": {},
     "output_type": "execute_result"
    }
   ],
   "source": [
    "# power \n",
    "power(design = \"bira2_1r\", es=0.033290496240165834, n=80, J=480, rho2=0.35, omega2=0.1, alpha=0.05, two_tailed=True, p=0.5, r21=0, r2t2=0, g=0)"
   ]
  },
  {
   "cell_type": "markdown",
   "metadata": {},
   "source": [
    "**Parameters for BIRA2_1r:**\n",
    "\n",
    "| Parameters |`effect_size` | `sample_size` | `power`| \n",
    "|:----------:|:----------------:|:--------------------:|:--------------:|\n",
    "| design     | &check;          | &check;              | &check;        | \n",
    "| es         |                  | &check;              | &check;        | \n",
    "| n          | &check;          | &check;              | &check;        | \n",
    "| J          | &check;          |                      | &check;        | \n",
    "| power      | &check;          | &check;              |                | \n",
    "| rho2       | &check;          | &check;              | &check;        | \n",
    "| omega2     | &check;          | &check;              | &check;        | \n",
    "| alpha      | &check;          | &check;              | &check;        | \n",
    "| two_tailed | &check;          | &check;              | &check;        | \n",
    "| p          | &check;          | &check;              | &check;        | \n",
    "| r21        | &check;          | &check;              | &check;        | \n",
    "| r2t2        | &check;         | &check;              | &check;        | \n",
    "| g          | &check;          | &check;              | &check;        | \n",
    "\n",
    "\n",
    "- **design**: please specify your study design \n",
    "\n",
    "- **n**: Mean number of Level 1 units per Level 2 cluster (harmonic mean recommended). \n",
    "\n",
    "- **J**: Number of level 2 units.\n",
    "\n",
    "- **es**: minimum detectable effect sizes, default 0.25. Please change this value according to your design.\n",
    "\n",
    "- **power**: statistical power, 1- Type II error,  default 0.8 (recommended).\n",
    "\n",
    "- **row2**: \n",
    "\n",
    "- **alpha**: Type I error, default 0.05 (recommended).\n",
    "\n",
    "- **two_taied**: whether it is a two-tailed test or a one-tailed test. default True (two-tailed test). \n",
    "\n",
    "- **p**: proportion of the treatment sample $\\frac{n_T}{(n_T+n_C)}$, default 0.50 (i.e., equal samples size for treatment and control)\n",
    "\n",
    "- **r21**: percent of variance in outcome explained by covariates, default 0 \n",
    "\n",
    "- **g**: number of covariates, default 0\n"
   ]
  },
  {
   "cell_type": "markdown",
   "metadata": {},
   "source": [
    "## BIRA3_1r\n",
    "\n",
    "| Assignment | Clustering Level | Treatment Assignment | Treatment Level| Cluster Effect |\n",
    "|:----------:|:----------------:|:--------------------:|:--------------:|:--------------:|\n",
    "| blocked    | 3                | individual           | 1              | random         |\n",
    "\n"
   ]
  },
  {
   "cell_type": "markdown",
   "metadata": {},
   "source": [
    "## BIRA4_1r\n",
    "\n",
    "| Assignment | Clustering Level | Treatment Assignment | Treatment Level| Cluster Effect |\n",
    "|:----------:|:----------------:|:--------------------:|:--------------:|:--------------:|\n",
    "| blocked    | 4                | individual           | 1              | random         |\n"
   ]
  },
  {
   "cell_type": "code",
   "execution_count": null,
   "metadata": {},
   "outputs": [],
   "source": []
  }
 ],
 "metadata": {
  "kernelspec": {
   "display_name": "Python 3",
   "language": "python",
   "name": "python3"
  },
  "language_info": {
   "codemirror_mode": {
    "name": "ipython",
    "version": 3
   },
   "file_extension": ".py",
   "mimetype": "text/x-python",
   "name": "python",
   "nbconvert_exporter": "python",
   "pygments_lexer": "ipython3",
   "version": "3.7.7"
  }
 },
 "nbformat": 4,
 "nbformat_minor": 4
}
