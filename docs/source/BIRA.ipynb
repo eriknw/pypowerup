{
 "cells": [
  {
   "cell_type": "markdown",
   "metadata": {},
   "source": [
    "# Blocked (Stratified) Individual Random Assignment (BIRA)\n",
    "\n",
    "## BIRA2_1c \n",
    "\n",
    "| Assignment | Clustering Level | Treatment Assignment | Treatment Level| Cluster Effect |\n",
    "|:----------:|:----------------:|:--------------------:|:--------------:|:--------------:|\n",
    "| blocked    | 2                | individual           | 1              | constant       |"
   ]
  },
  {
   "cell_type": "code",
   "execution_count": 1,
   "metadata": {},
   "outputs": [],
   "source": [
    "from pypowerup import effect_size, power, sample_size"
   ]
  },
  {
   "cell_type": "code",
   "execution_count": 2,
   "metadata": {},
   "outputs": [
    {
     "data": {
      "text/plain": [
       "0.1675746241777643"
      ]
     },
     "execution_count": 2,
     "metadata": {},
     "output_type": "execute_result"
    }
   ],
   "source": [
    "# effect size, i.e., minimum detectable effect sizes (MDES):\n",
    "effect_size(design = \"bira2_1c\", n=80, J=14, power=0.8, alpha=0.05, two_tailed=True, p=0.5, r21=0, g=0)"
   ]
  },
  {
   "cell_type": "code",
   "execution_count": 3,
   "metadata": {},
   "outputs": [
    {
     "data": {
      "text/plain": [
       "14.0"
      ]
     },
     "execution_count": 3,
     "metadata": {},
     "output_type": "execute_result"
    }
   ],
   "source": [
    "# sample_size, i.e., minimum required samples sizes (MRSS) for level 2 units. \n",
    "sample_size(design = \"bira2_1c\", n=80, es=0.168, power=0.8, alpha=0.05, two_tailed=True, p=0.5, r21=0, g=0)"
   ]
  },
  {
   "cell_type": "code",
   "execution_count": 4,
   "metadata": {},
   "outputs": [
    {
     "data": {
      "text/plain": [
       "0.801986386400488"
      ]
     },
     "execution_count": 4,
     "metadata": {},
     "output_type": "execute_result"
    }
   ],
   "source": [
    "# power\n",
    "power(design = \"bira2_1c\", n=80, J=14, es=0.168, alpha=0.05, two_tailed=True, p=0.5, r21=0, g=0)"
   ]
  },
  {
   "cell_type": "markdown",
   "metadata": {},
   "source": [
    "**Parameters for BIRA2_1c:**"
   ]
  },
  {
   "cell_type": "raw",
   "metadata": {},
   "source": [
    "<table border=\"1\" class=\"docutils\">\n",
    "<colgroup>\n",
    "<col width=\"32%\" />\n",
    "<col width=\"26%\" />\n",
    "<col width=\"26%\" />\n",
    "<col width=\"16%\" />\n",
    "</colgroup>\n",
    "<thead valign=\"bottom\">\n",
    "<tr class=\"row\"><th class=\"head\">Parameters</th>\n",
    "<th class=\"head\"><code class=\"docutils literal notranslate\"><span class=\"pre\">effect_size</span></code></th>\n",
    "<th class=\"head\"><code class=\"docutils literal notranslate\"><span class=\"pre\">sample_size</span></code></th>\n",
    "<th class=\"head\"><code class=\"docutils literal notranslate\"><span class=\"pre\">power</span></code></th>\n",
    "</tr>\n",
    "</thead>\n",
    "<tbody valign=\"top\">\n",
    "<tr class=\"row\"><td><a class=\"hoverxref tooltip reference internal\" data-doc=\"parameters\" data-docpath=\"/parameters.html\" data-project=\"pypowerup\" data-section=\"design\" data-version=\"latest\" href=\"parameters.html#design\"><span class=\"std std-ref\">design</span></a></td>\n",
    "<td>✓</td>\n",
    "<td>✓</td>\n",
    "<td>✓</td>\n",
    "</tr>\n",
    "<tr class=\"row\"><td><a class=\"hoverxref tooltip reference internal\" data-doc=\"parameters\" data-docpath=\"/parameters.html\" data-project=\"pypowerup\" data-section=\"es\" data-version=\"latest\" href=\"parameters.html#es\"><span class=\"std std-ref\">es</span></a></td>\n",
    "<td>&#160;</td>\n",
    "<td>✓</td>\n",
    "<td>✓</td>\n",
    "</tr>\n",
    "<tr class=\"row\"><td><a class=\"hoverxref tooltip reference internal\" data-doc=\"parameters\" data-docpath=\"/parameters.html\" data-project=\"pypowerup\" data-section=\"n\" data-version=\"latest\" href=\"parameters.html#n\"><span class=\"std std-ref\">n</span></a></td>\n",
    "<td>✓</td>\n",
    "<td>✓</td>\n",
    "<td>✓</td>\n",
    "</tr>\n",
    "<tr class=\"row\"><td><a class=\"hoverxref tooltip reference internal\" data-doc=\"parameters\" data-docpath=\"/parameters.html\" data-project=\"pypowerup\" data-section=\"J\" data-version=\"latest\" href=\"parameters.html#J\"><span class=\"std std-ref\">J</span></a></td>\n",
    "<td>✓</td>\n",
    "<td>&#160;</td>\n",
    "<td>✓</td>\n",
    "</tr>\n",
    "<tr class=\"row\"><td><a class=\"hoverxref tooltip reference internal\" data-doc=\"parameters\" data-docpath=\"/parameters.html\" data-project=\"pypowerup\" data-section=\"power\" data-version=\"latest\" href=\"parameters.html#power\"><span class=\"std std-ref\">power</span></a></td>\n",
    "<td>✓</td>\n",
    "<td>✓</td>\n",
    "<td>&#160;</td>\n",
    "</tr>\n",
    "<tr class=\"row\"><td><a class=\"hoverxref tooltip reference internal\" data-doc=\"parameters\" data-docpath=\"/parameters.html\" data-project=\"pypowerup\" data-section=\"alpha\" data-version=\"latest\" href=\"parameters.html#alpha\"><span class=\"std std-ref\">alpha</span></a></td>\n",
    "<td>✓</td>\n",
    "<td>✓</td>\n",
    "<td>✓</td>\n",
    "</tr>\n",
    "<tr class=\"row\"><td><a class=\"hoverxref tooltip reference internal\" data-doc=\"parameters\" data-docpath=\"/parameters.html\" data-project=\"pypowerup\" data-section=\"two-tailed\" data-version=\"latest\" href=\"parameters.html#two-tailed\"><span class=\"std std-ref\">two_tailed</span></a></td>\n",
    "<td>✓</td>\n",
    "<td>✓</td>\n",
    "<td>✓</td>\n",
    "</tr>\n",
    "<tr class=\"row\"><td><a class=\"hoverxref tooltip reference internal\" data-doc=\"parameters\" data-docpath=\"/parameters.html\" data-project=\"pypowerup\" data-section=\"p\" data-version=\"latest\" href=\"parameters.html#p\"><span class=\"std std-ref\">p</span></a></td>\n",
    "<td>✓</td>\n",
    "<td>✓</td>\n",
    "<td>✓</td>\n",
    "</tr>\n",
    "<tr class=\"row\"><td><a class=\"hoverxref tooltip reference internal\" data-doc=\"parameters\" data-docpath=\"/parameters.html\" data-project=\"pypowerup\" data-section=\"r21\" data-version=\"latest\" href=\"parameters.html#r21\"><span class=\"std std-ref\">r21</span></a></td>\n",
    "<td>✓</td>\n",
    "<td>✓</td>\n",
    "<td>✓</td>\n",
    "</tr>\n",
    "<tr class=\"row\"><td><a class=\"hoverxref tooltip reference internal\" data-doc=\"parameters\" data-docpath=\"/parameters.html\" data-project=\"pypowerup\" data-section=\"g\" data-version=\"latest\" href=\"parameters.html#g\"><span class=\"std std-ref\">g</span></a></td>\n",
    "<td>✓</td>\n",
    "<td>✓</td>\n",
    "<td>✓</td>\n",
    "</tr>\n",
    "\n",
    "\n",
    "</tbody>\n",
    "</table>"
   ]
  },
  {
   "cell_type": "markdown",
   "metadata": {},
   "source": [
    "## BIRA2_1f \n",
    "\n",
    "| Assignment | Clustering Level | Treatment Assignment | Treatment Level| Cluster Effect |\n",
    "|:----------:|:----------------:|:--------------------:|:--------------:|:--------------:|\n",
    "| blocked    | 2                | individual           | 1              | fixed          |\n"
   ]
  },
  {
   "cell_type": "code",
   "execution_count": 5,
   "metadata": {},
   "outputs": [
    {
     "data": {
      "text/plain": [
       "0.1253671054395026"
      ]
     },
     "execution_count": 5,
     "metadata": {},
     "output_type": "execute_result"
    }
   ],
   "source": [
    "# effect size, i.e., minimum detectable effect sizes (MDES):\n",
    "effect_size(design = \"bira2_1f\", n=10, J=200, power=0.8, alpha=0.05, two_tailed=True, p=0.5, r21=0, g=0)"
   ]
  },
  {
   "cell_type": "code",
   "execution_count": 6,
   "metadata": {},
   "outputs": [
    {
     "data": {
      "text/plain": [
       "201.0"
      ]
     },
     "execution_count": 6,
     "metadata": {},
     "output_type": "execute_result"
    }
   ],
   "source": [
    "# sample_size, i.e., minimum required samples sizes (MRSS) for level 2 units. \n",
    "sample_size(design = \"bira2_1f\", n=10, es=0.125, power=0.8, alpha=0.05, two_tailed=True, p=0.5, r21=0, g=0)"
   ]
  },
  {
   "cell_type": "code",
   "execution_count": 7,
   "metadata": {},
   "outputs": [
    {
     "data": {
      "text/plain": [
       "0.7976961337604935"
      ]
     },
     "execution_count": 7,
     "metadata": {},
     "output_type": "execute_result"
    }
   ],
   "source": [
    "# power\n",
    "power(design = \"bira2_1f\", n=10, J=200, es=0.125, alpha=0.05, two_tailed=True, p=0.5, r21=0, g=0)"
   ]
  },
  {
   "cell_type": "markdown",
   "metadata": {},
   "source": [
    "**Parameters for BIRA2_1f**"
   ]
  },
  {
   "cell_type": "raw",
   "metadata": {},
   "source": [
    "<table border=\"1\" class=\"docutils\">\n",
    "<colgroup>\n",
    "<col width=\"32%\" />\n",
    "<col width=\"26%\" />\n",
    "<col width=\"26%\" />\n",
    "<col width=\"16%\" />\n",
    "</colgroup>\n",
    "<thead valign=\"bottom\">\n",
    "<tr class=\"row\"><th class=\"head\">Parameters</th>\n",
    "<th class=\"head\"><code class=\"docutils literal notranslate\"><span class=\"pre\">effect_size</span></code></th>\n",
    "<th class=\"head\"><code class=\"docutils literal notranslate\"><span class=\"pre\">sample_size</span></code></th>\n",
    "<th class=\"head\"><code class=\"docutils literal notranslate\"><span class=\"pre\">power</span></code></th>\n",
    "</tr>\n",
    "</thead>\n",
    "<tbody valign=\"top\">\n",
    "<tr class=\"row\"><td><a class=\"hoverxref tooltip reference internal\" data-doc=\"parameters\" data-docpath=\"/parameters.html\" data-project=\"pypowerup\" data-section=\"design\" data-version=\"latest\" href=\"parameters.html#design\"><span class=\"std std-ref\">design</span></a></td>\n",
    "<td>✓</td>\n",
    "<td>✓</td>\n",
    "<td>✓</td>\n",
    "</tr>\n",
    "<tr class=\"row\"><td><a class=\"hoverxref tooltip reference internal\" data-doc=\"parameters\" data-docpath=\"/parameters.html\" data-project=\"pypowerup\" data-section=\"es\" data-version=\"latest\" href=\"parameters.html#es\"><span class=\"std std-ref\">es</span></a></td>\n",
    "<td>&#160;</td>\n",
    "<td>✓</td>\n",
    "<td>✓</td>\n",
    "</tr>\n",
    "<tr class=\"row\"><td><a class=\"hoverxref tooltip reference internal\" data-doc=\"parameters\" data-docpath=\"/parameters.html\" data-project=\"pypowerup\" data-section=\"n\" data-version=\"latest\" href=\"parameters.html#n\"><span class=\"std std-ref\">n</span></a></td>\n",
    "<td>✓</td>\n",
    "<td>✓</td>\n",
    "<td>✓</td>\n",
    "</tr>\n",
    "<tr class=\"row\"><td><a class=\"hoverxref tooltip reference internal\" data-doc=\"parameters\" data-docpath=\"/parameters.html\" data-project=\"pypowerup\" data-section=\"J\" data-version=\"latest\" href=\"parameters.html#J\"><span class=\"std std-ref\">J</span></a></td>\n",
    "<td>✓</td>\n",
    "<td>&#160;</td>\n",
    "<td>✓</td>\n",
    "</tr>\n",
    "<tr class=\"row\"><td><a class=\"hoverxref tooltip reference internal\" data-doc=\"parameters\" data-docpath=\"/parameters.html\" data-project=\"pypowerup\" data-section=\"power\" data-version=\"latest\" href=\"parameters.html#power\"><span class=\"std std-ref\">power</span></a></td>\n",
    "<td>✓</td>\n",
    "<td>✓</td>\n",
    "<td>&#160;</td>\n",
    "</tr>\n",
    "<tr class=\"row\"><td><a class=\"hoverxref tooltip reference internal\" data-doc=\"parameters\" data-docpath=\"/parameters.html\" data-project=\"pypowerup\" data-section=\"alpha\" data-version=\"latest\" href=\"parameters.html#alpha\"><span class=\"std std-ref\">alpha</span></a></td>\n",
    "<td>✓</td>\n",
    "<td>✓</td>\n",
    "<td>✓</td>\n",
    "</tr>\n",
    "<tr class=\"row\"><td><a class=\"hoverxref tooltip reference internal\" data-doc=\"parameters\" data-docpath=\"/parameters.html\" data-project=\"pypowerup\" data-section=\"two-tailed\" data-version=\"latest\" href=\"parameters.html#two-tailed\"><span class=\"std std-ref\">two_tailed</span></a></td>\n",
    "<td>✓</td>\n",
    "<td>✓</td>\n",
    "<td>✓</td>\n",
    "</tr>\n",
    "<tr class=\"row\"><td><a class=\"hoverxref tooltip reference internal\" data-doc=\"parameters\" data-docpath=\"/parameters.html\" data-project=\"pypowerup\" data-section=\"p\" data-version=\"latest\" href=\"parameters.html#p\"><span class=\"std std-ref\">p</span></a></td>\n",
    "<td>✓</td>\n",
    "<td>✓</td>\n",
    "<td>✓</td>\n",
    "</tr>\n",
    "<tr class=\"row\"><td><a class=\"hoverxref tooltip reference internal\" data-doc=\"parameters\" data-docpath=\"/parameters.html\" data-project=\"pypowerup\" data-section=\"r21\" data-version=\"latest\" href=\"parameters.html#r21\"><span class=\"std std-ref\">r21</span></a></td>\n",
    "<td>✓</td>\n",
    "<td>✓</td>\n",
    "<td>✓</td>\n",
    "</tr>\n",
    "<tr class=\"row\"><td><a class=\"hoverxref tooltip reference internal\" data-doc=\"parameters\" data-docpath=\"/parameters.html\" data-project=\"pypowerup\" data-section=\"g\" data-version=\"latest\" href=\"parameters.html#g\"><span class=\"std std-ref\">g</span></a></td>\n",
    "<td>✓</td>\n",
    "<td>✓</td>\n",
    "<td>✓</td>\n",
    "</tr>\n",
    "\n",
    "\n",
    "</tbody>\n",
    "</table>"
   ]
  },
  {
   "cell_type": "markdown",
   "metadata": {},
   "source": [
    "## BIRA2_1r\n",
    "\n",
    "| Assignment | Clustering Level | Treatment Assignment | Treatment Level| Cluster Effect |\n",
    "|:----------:|:----------------:|:--------------------:|:--------------:|:--------------:|\n",
    "| blocked    | 2                | individual           | 1              | random         |\n",
    "\n"
   ]
  },
  {
   "cell_type": "code",
   "execution_count": 8,
   "metadata": {},
   "outputs": [
    {
     "data": {
      "text/plain": [
       "0.033290496240165834"
      ]
     },
     "execution_count": 8,
     "metadata": {},
     "output_type": "execute_result"
    }
   ],
   "source": [
    "# effect size, i.e., minimum detectable effect sizes (MDES)\n",
    "effect_size(design = \"bira2_1r\", n=80, J=480, rho2=0.35, omega2=0.1, power=0.8, alpha=0.05, \n",
    "            two_tailed=True, p=0.5, r21=0, r2t2=0, g=0)"
   ]
  },
  {
   "cell_type": "code",
   "execution_count": 9,
   "metadata": {},
   "outputs": [
    {
     "data": {
      "text/plain": [
       "480.0"
      ]
     },
     "execution_count": 9,
     "metadata": {},
     "output_type": "execute_result"
    }
   ],
   "source": [
    "# sample_size, i.e., minimum required samples sizes (MRSS) for level 2 units\n",
    "sample_size(design = \"bira2_1r\", es=0.033290496240165834, n=80, rho2=0.35, omega2=0.1, power=0.8, alpha=0.05, \n",
    "            two_tailed=True, p=0.5, r21=0, r2t2=0, g=0)"
   ]
  },
  {
   "cell_type": "code",
   "execution_count": 10,
   "metadata": {},
   "outputs": [
    {
     "data": {
      "text/plain": [
       "0.800001211704756"
      ]
     },
     "execution_count": 10,
     "metadata": {},
     "output_type": "execute_result"
    }
   ],
   "source": [
    "# power \n",
    "power(design = \"bira2_1r\", es=0.033290496240165834, n=80, J=480, rho2=0.35, omega2=0.1, alpha=0.05, \n",
    "      two_tailed=True, p=0.5, r21=0, r2t2=0, g=0)"
   ]
  },
  {
   "cell_type": "markdown",
   "metadata": {},
   "source": [
    "**Parameters for BIRA2_1r**"
   ]
  },
  {
   "cell_type": "raw",
   "metadata": {},
   "source": [
    "<table border=\"1\" class=\"docutils\">\n",
    "<colgroup>\n",
    "<col width=\"32%\" />\n",
    "<col width=\"26%\" />\n",
    "<col width=\"26%\" />\n",
    "<col width=\"16%\" />\n",
    "</colgroup>\n",
    "<thead valign=\"bottom\">\n",
    "<tr class=\"row\"><th class=\"head\">Parameters</th>\n",
    "<th class=\"head\"><code class=\"docutils literal notranslate\"><span class=\"pre\">effect_size</span></code></th>\n",
    "<th class=\"head\"><code class=\"docutils literal notranslate\"><span class=\"pre\">sample_size</span></code></th>\n",
    "<th class=\"head\"><code class=\"docutils literal notranslate\"><span class=\"pre\">power</span></code></th>\n",
    "</tr>\n",
    "</thead>\n",
    "<tbody valign=\"top\">\n",
    "<tr class=\"row\"><td><a class=\"hoverxref tooltip reference internal\" data-doc=\"parameters\" data-docpath=\"/parameters.html\" data-project=\"pypowerup\" data-section=\"design\" data-version=\"latest\" href=\"parameters.html#design\"><span class=\"std std-ref\">design</span></a></td>\n",
    "<td>✓</td>\n",
    "<td>✓</td>\n",
    "<td>✓</td>\n",
    "</tr>\n",
    "<tr class=\"row\"><td><a class=\"hoverxref tooltip reference internal\" data-doc=\"parameters\" data-docpath=\"/parameters.html\" data-project=\"pypowerup\" data-section=\"es\" data-version=\"latest\" href=\"parameters.html#es\"><span class=\"std std-ref\">es</span></a></td>\n",
    "<td>&#160;</td>\n",
    "<td>✓</td>\n",
    "<td>✓</td>\n",
    "</tr>\n",
    "<tr class=\"row\"><td><a class=\"hoverxref tooltip reference internal\" data-doc=\"parameters\" data-docpath=\"/parameters.html\" data-project=\"pypowerup\" data-section=\"n\" data-version=\"latest\" href=\"parameters.html#n\"><span class=\"std std-ref\">n</span></a></td>\n",
    "<td>✓</td>\n",
    "<td>✓</td>\n",
    "<td>✓</td>\n",
    "</tr>\n",
    "<tr class=\"row\"><td><a class=\"hoverxref tooltip reference internal\" data-doc=\"parameters\" data-docpath=\"/parameters.html\" data-project=\"pypowerup\" data-section=\"J\" data-version=\"latest\" href=\"parameters.html#J\"><span class=\"std std-ref\">J</span></a></td>\n",
    "<td>✓</td>\n",
    "<td>&#160;</td>\n",
    "<td>✓</td>\n",
    "</tr>\n",
    "<tr class=\"row\"><td><a class=\"hoverxref tooltip reference internal\" data-doc=\"parameters\" data-docpath=\"/parameters.html\" data-project=\"pypowerup\" data-section=\"power\" data-version=\"latest\" href=\"parameters.html#power\"><span class=\"std std-ref\">power</span></a></td>\n",
    "<td>✓</td>\n",
    "<td>✓</td>\n",
    "<td>&#160;</td>\n",
    "</tr>\n",
    "<tr class=\"row\"><td><a class=\"hoverxref tooltip reference internal\" data-doc=\"parameters\" data-docpath=\"/parameters.html\" data-project=\"pypowerup\" data-section=\"alpha\" data-version=\"latest\" href=\"parameters.html#alpha\"><span class=\"std std-ref\">alpha</span></a></td>\n",
    "<td>✓</td>\n",
    "<td>✓</td>\n",
    "<td>✓</td>\n",
    "</tr>\n",
    "<tr class=\"row\"><td><a class=\"hoverxref tooltip reference internal\" data-doc=\"parameters\" data-docpath=\"/parameters.html\" data-project=\"pypowerup\" data-section=\"two-tailed\" data-version=\"latest\" href=\"parameters.html#two-tailed\"><span class=\"std std-ref\">two_tailed</span></a></td>\n",
    "<td>✓</td>\n",
    "<td>✓</td>\n",
    "<td>✓</td>\n",
    "</tr>\n",
    "<tr class=\"row\"><td><a class=\"hoverxref tooltip reference internal\" data-doc=\"parameters\" data-docpath=\"/parameters.html\" data-project=\"pypowerup\" data-section=\"p\" data-version=\"latest\" href=\"parameters.html#p\"><span class=\"std std-ref\">p</span></a></td>\n",
    "<td>✓</td>\n",
    "<td>✓</td>\n",
    "<td>✓</td>\n",
    "</tr>\n",
    "<tr class=\"row\"><td><a class=\"hoverxref tooltip reference internal\" data-doc=\"parameters\" data-docpath=\"/parameters.html\" data-project=\"pypowerup\" data-section=\"r21\" data-version=\"latest\" href=\"parameters.html#r21\"><span class=\"std std-ref\">r21</span></a></td>\n",
    "<td>✓</td>\n",
    "<td>✓</td>\n",
    "<td>✓</td>\n",
    "</tr>\n",
    "<tr class=\"row\"><td><a class=\"hoverxref tooltip reference internal\" data-doc=\"parameters\" data-docpath=\"/parameters.html\" data-project=\"pypowerup\" data-section=\"g\" data-version=\"latest\" href=\"parameters.html#g\"><span class=\"std std-ref\">g</span></a></td>\n",
    "<td>✓</td>\n",
    "<td>✓</td>\n",
    "<td>✓</td>\n",
    "</tr>\n",
    "<tr class=\"row\"><td><a class=\"hoverxref tooltip reference internal\" data-doc=\"parameters\" data-docpath=\"/parameters.html\" data-project=\"pypowerup\" data-section=\"rho2\" data-version=\"latest\" href=\"parameters.html#rho2\"><span class=\"std std-ref\">rho2</span></a></td>\n",
    "<td>✓</td>\n",
    "<td>✓</td>\n",
    "<td>✓</td>\n",
    "</tr>\n",
    "<tr class=\"row\"><td><a class=\"hoverxref tooltip reference internal\" data-doc=\"parameters\" data-docpath=\"/parameters.html\" data-project=\"pypowerup\" data-section=\"omega2\" data-version=\"latest\" href=\"parameters.html#omega2\"><span class=\"std std-ref\">omega2</span></a></td>\n",
    "<td>✓</td>\n",
    "<td>✓</td>\n",
    "<td>✓</td>\n",
    "</tr>\n",
    "<tr class=\"row\"><td><a class=\"hoverxref tooltip reference internal\" data-doc=\"parameters\" data-docpath=\"/parameters.html\" data-project=\"pypowerup\" data-section=\"r2t2\" data-version=\"latest\" href=\"parameters.html#r2t2\"><span class=\"std std-ref\">r2t2</span></a></td>\n",
    "<td>✓</td>\n",
    "<td>✓</td>\n",
    "<td>✓</td>\n",
    "</tr>\n",
    "\n",
    "\n",
    "</tbody>\n",
    "</table>"
   ]
  },
  {
   "cell_type": "markdown",
   "metadata": {},
   "source": [
    "## BIRA3_1r\n",
    "\n",
    "| Assignment | Clustering Level | Treatment Assignment | Treatment Level| Cluster Effect |\n",
    "|:----------:|:----------------:|:--------------------:|:--------------:|:--------------:|\n",
    "| blocked    | 3                | individual           | 1              | random         |\n",
    "\n"
   ]
  },
  {
   "cell_type": "code",
   "execution_count": 11,
   "metadata": {},
   "outputs": [
    {
     "data": {
      "text/plain": [
       "0.04451381756409839"
      ]
     },
     "execution_count": 11,
     "metadata": {},
     "output_type": "execute_result"
    }
   ],
   "source": [
    "# effect size, i.e., minimum detectable effect sizes (MDES)\n",
    "effect_size(design = \"bira3_1r\", n=80, J=10, K=100, rho3=0.2, rho2=0.15, omega3=0.1, omega2=0.1,\n",
    "            power=0.8, alpha=0.05, two_tailed=True, p=0.5, r21=0, r2t2=0, r2t3=0, g=0)\n"
   ]
  },
  {
   "cell_type": "code",
   "execution_count": 12,
   "metadata": {},
   "outputs": [
    {
     "data": {
      "text/plain": [
       "100.0"
      ]
     },
     "execution_count": 12,
     "metadata": {},
     "output_type": "execute_result"
    }
   ],
   "source": [
    "# sample_size, i.e., minimum required samples sizes (MRSS) for level 3 units\n",
    "sample_size(design = \"bira3_1r\", es=0.04451381756409839, n=80, J=10, rho3=0.2, rho2=0.15, omega3=0.1, omega2=0.1,\n",
    "            power=0.8, alpha=0.05, two_tailed=True, p=0.5, r21=0, r2t2=0, r2t3=0, g=0)"
   ]
  },
  {
   "cell_type": "code",
   "execution_count": 13,
   "metadata": {},
   "outputs": [
    {
     "data": {
      "text/plain": [
       "0.8000026614774113"
      ]
     },
     "execution_count": 13,
     "metadata": {},
     "output_type": "execute_result"
    }
   ],
   "source": [
    "# power\n",
    "power(design = \"bira3_1r\", es=0.04451381756409839, n=80, J=10, K=100, rho3=0.2, rho2=0.15, omega3=0.1, omega2=0.1,\n",
    "            alpha=0.05, two_tailed=True, p=0.5, r21=0, r2t2=0, r2t3=0, g=0)"
   ]
  },
  {
   "cell_type": "markdown",
   "metadata": {},
   "source": [
    "**Parameters for BIRA3_1r**"
   ]
  },
  {
   "cell_type": "raw",
   "metadata": {},
   "source": [
    "<table border=\"1\" class=\"docutils\">\n",
    "<colgroup>\n",
    "<col width=\"32%\" />\n",
    "<col width=\"26%\" />\n",
    "<col width=\"26%\" />\n",
    "<col width=\"16%\" />\n",
    "</colgroup>\n",
    "<thead valign=\"bottom\">\n",
    "<tr class=\"row\"><th class=\"head\">Parameters</th>\n",
    "<th class=\"head\"><code class=\"docutils literal notranslate\"><span class=\"pre\">effect_size</span></code></th>\n",
    "<th class=\"head\"><code class=\"docutils literal notranslate\"><span class=\"pre\">sample_size</span></code></th>\n",
    "<th class=\"head\"><code class=\"docutils literal notranslate\"><span class=\"pre\">power</span></code></th>\n",
    "</tr>\n",
    "</thead>\n",
    "<tbody valign=\"top\">\n",
    "<tr class=\"row\"><td><a class=\"hoverxref tooltip reference internal\" data-doc=\"parameters\" data-docpath=\"/parameters.html\" data-project=\"pypowerup\" data-section=\"design\" data-version=\"latest\" href=\"parameters.html#design\"><span class=\"std std-ref\">design</span></a></td>\n",
    "<td>✓</td>\n",
    "<td>✓</td>\n",
    "<td>✓</td>\n",
    "</tr>\n",
    "<tr class=\"row\"><td><a class=\"hoverxref tooltip reference internal\" data-doc=\"parameters\" data-docpath=\"/parameters.html\" data-project=\"pypowerup\" data-section=\"es\" data-version=\"latest\" href=\"parameters.html#es\"><span class=\"std std-ref\">es</span></a></td>\n",
    "<td>&#160;</td>\n",
    "<td>✓</td>\n",
    "<td>✓</td>\n",
    "</tr>\n",
    "<tr class=\"row\"><td><a class=\"hoverxref tooltip reference internal\" data-doc=\"parameters\" data-docpath=\"/parameters.html\" data-project=\"pypowerup\" data-section=\"n\" data-version=\"latest\" href=\"parameters.html#n\"><span class=\"std std-ref\">n</span></a></td>\n",
    "<td>✓</td>\n",
    "<td>✓</td>\n",
    "<td>✓</td>\n",
    "</tr>\n",
    "<tr class=\"row\"><td><a class=\"hoverxref tooltip reference internal\" data-doc=\"parameters\" data-docpath=\"/parameters.html\" data-project=\"pypowerup\" data-section=\"J\" data-version=\"latest\" href=\"parameters.html#J\"><span class=\"std std-ref\">J</span></a></td>\n",
    "<td>✓</td>\n",
    "<td>✓</td>\n",
    "<td>✓</td>\n",
    "</tr>\n",
    "<tr class=\"row\"><td><a class=\"hoverxref tooltip reference internal\" data-doc=\"parameters\" data-docpath=\"/parameters.html\" data-project=\"pypowerup\" data-section=\"K\" data-version=\"latest\" href=\"parameters.html#K\"><span class=\"std std-ref\">K</span></a></td>\n",
    "<td>✓</td>\n",
    "<td>&#160;</td>\n",
    "<td>✓</td>\n",
    "</tr>\n",
    "<tr class=\"row\"><td><a class=\"hoverxref tooltip reference internal\" data-doc=\"parameters\" data-docpath=\"/parameters.html\" data-project=\"pypowerup\" data-section=\"power\" data-version=\"latest\" href=\"parameters.html#power\"><span class=\"std std-ref\">power</span></a></td>\n",
    "<td>✓</td>\n",
    "<td>✓</td>\n",
    "<td>&#160;</td>\n",
    "</tr>\n",
    "<tr class=\"row\"><td><a class=\"hoverxref tooltip reference internal\" data-doc=\"parameters\" data-docpath=\"/parameters.html\" data-project=\"pypowerup\" data-section=\"alpha\" data-version=\"latest\" href=\"parameters.html#alpha\"><span class=\"std std-ref\">alpha</span></a></td>\n",
    "<td>✓</td>\n",
    "<td>✓</td>\n",
    "<td>✓</td>\n",
    "</tr>\n",
    "<tr class=\"row\"><td><a class=\"hoverxref tooltip reference internal\" data-doc=\"parameters\" data-docpath=\"/parameters.html\" data-project=\"pypowerup\" data-section=\"two-tailed\" data-version=\"latest\" href=\"parameters.html#two-tailed\"><span class=\"std std-ref\">two_tailed</span></a></td>\n",
    "<td>✓</td>\n",
    "<td>✓</td>\n",
    "<td>✓</td>\n",
    "</tr>\n",
    "<tr class=\"row\"><td><a class=\"hoverxref tooltip reference internal\" data-doc=\"parameters\" data-docpath=\"/parameters.html\" data-project=\"pypowerup\" data-section=\"p\" data-version=\"latest\" href=\"parameters.html#p\"><span class=\"std std-ref\">p</span></a></td>\n",
    "<td>✓</td>\n",
    "<td>✓</td>\n",
    "<td>✓</td>\n",
    "</tr>\n",
    "<tr class=\"row\"><td><a class=\"hoverxref tooltip reference internal\" data-doc=\"parameters\" data-docpath=\"/parameters.html\" data-project=\"pypowerup\" data-section=\"r21\" data-version=\"latest\" href=\"parameters.html#r21\"><span class=\"std std-ref\">r21</span></a></td>\n",
    "<td>✓</td>\n",
    "<td>✓</td>\n",
    "<td>✓</td>\n",
    "</tr>\n",
    "<tr class=\"row\"><td><a class=\"hoverxref tooltip reference internal\" data-doc=\"parameters\" data-docpath=\"/parameters.html\" data-project=\"pypowerup\" data-section=\"g\" data-version=\"latest\" href=\"parameters.html#g\"><span class=\"std std-ref\">g</span></a></td>\n",
    "<td>✓</td>\n",
    "<td>✓</td>\n",
    "<td>✓</td>\n",
    "</tr>\n",
    "<tr class=\"row\"><td><a class=\"hoverxref tooltip reference internal\" data-doc=\"parameters\" data-docpath=\"/parameters.html\" data-project=\"pypowerup\" data-section=\"rho2\" data-version=\"latest\" href=\"parameters.html#rho2\"><span class=\"std std-ref\">rho2</span></a></td>\n",
    "<td>✓</td>\n",
    "<td>✓</td>\n",
    "<td>✓</td>\n",
    "</tr>\n",
    "<tr class=\"row\"><td><a class=\"hoverxref tooltip reference internal\" data-doc=\"parameters\" data-docpath=\"/parameters.html\" data-project=\"pypowerup\" data-section=\"omega2\" data-version=\"latest\" href=\"parameters.html#omega2\"><span class=\"std std-ref\">omega2</span></a></td>\n",
    "<td>✓</td>\n",
    "<td>✓</td>\n",
    "<td>✓</td>\n",
    "</tr>\n",
    "<tr class=\"row\"><td><a class=\"hoverxref tooltip reference internal\" data-doc=\"parameters\" data-docpath=\"/parameters.html\" data-project=\"pypowerup\" data-section=\"r2t2\" data-version=\"latest\" href=\"parameters.html#r2t2\"><span class=\"std std-ref\">r2t2</span></a></td>\n",
    "<td>✓</td>\n",
    "<td>✓</td>\n",
    "<td>✓</td>\n",
    "</tr>\n",
    "<tr class=\"row\"><td><a class=\"hoverxref tooltip reference internal\" data-doc=\"parameters\" data-docpath=\"/parameters.html\" data-project=\"pypowerup\" data-section=\"rho3\" data-version=\"latest\" href=\"parameters.html#rho3\"><span class=\"std std-ref\">rho3</span></a></td>\n",
    "<td>✓</td>\n",
    "<td>✓</td>\n",
    "<td>✓</td>\n",
    "</tr>\n",
    "<tr class=\"row\"><td><a class=\"hoverxref tooltip reference internal\" data-doc=\"parameters\" data-docpath=\"/parameters.html\" data-project=\"pypowerup\" data-section=\"omega3\" data-version=\"latest\" href=\"parameters.html#omega3\"><span class=\"std std-ref\">omega3</span></a></td>\n",
    "<td>✓</td>\n",
    "<td>✓</td>\n",
    "<td>✓</td>\n",
    "</tr>\n",
    "<tr class=\"row\"><td><a class=\"hoverxref tooltip reference internal\" data-doc=\"parameters\" data-docpath=\"/parameters.html\" data-project=\"pypowerup\" data-section=\"r2t3\" data-version=\"latest\" href=\"parameters.html#r2t3\"><span class=\"std std-ref\">r2t3</span></a></td>\n",
    "<td>✓</td>\n",
    "<td>✓</td>\n",
    "<td>✓</td>\n",
    "</tr>\n",
    "\n",
    "\n",
    "</tbody>\n",
    "</table>"
   ]
  },
  {
   "cell_type": "markdown",
   "metadata": {},
   "source": [
    "## BIRA4_1r\n",
    "\n",
    "| Assignment | Clustering Level | Treatment Assignment | Treatment Level| Cluster Effect |\n",
    "|:----------:|:----------------:|:--------------------:|:--------------:|:--------------:|\n",
    "| blocked    | 4                | individual           | 1              | random         |\n"
   ]
  },
  {
   "cell_type": "code",
   "execution_count": 14,
   "metadata": {},
   "outputs": [
    {
     "data": {
      "text/plain": [
       "0.1191537036343213"
      ]
     },
     "execution_count": 14,
     "metadata": {},
     "output_type": "execute_result"
    }
   ],
   "source": [
    "# effect size, i.e., minimum detectable effect sizes (MDES)\n",
    "effect_size(design = \"bira4_1r\", n=10, J=4, K=4, L=20, rho4=0.05, rho3=0.15, rho2=0.15, \n",
    "            omega4=0.5, omega3=0.5, omega2=0.5, r21=0.5, r2t2=0.5, r2t3=0.5, r2t4=0.5, g=1,\n",
    "            power=0.8, alpha=0.05, two_tailed=True\n",
    "           )"
   ]
  },
  {
   "cell_type": "code",
   "execution_count": 15,
   "metadata": {},
   "outputs": [
    {
     "data": {
      "text/plain": [
       "20.0"
      ]
     },
     "execution_count": 15,
     "metadata": {},
     "output_type": "execute_result"
    }
   ],
   "source": [
    "# sample_size, i.e., minimum required samples sizes (MRSS) for level 4 units\n",
    "sample_size(design = \"bira4_1r\", es=0.1191537036343213, n=10, J=4, K=4, rho4=0.05, rho3=0.15, rho2=0.15, \n",
    "            omega4=0.5, omega3=0.5, omega2=0.5, r21=0.5, r2t2=0.5, r2t3=0.5, r2t4=0.5, g=1,\n",
    "            power=0.8, alpha=0.05, two_tailed=True)"
   ]
  },
  {
   "cell_type": "code",
   "execution_count": 16,
   "metadata": {},
   "outputs": [
    {
     "data": {
      "text/plain": [
       "0.8000404338335202"
      ]
     },
     "execution_count": 16,
     "metadata": {},
     "output_type": "execute_result"
    }
   ],
   "source": [
    "# power\n",
    "power(design = \"bira4_1r\", es=0.1191537036343213, n=10, J=4, K=4, L=20, rho4=0.05, rho3=0.15, rho2=0.15, \n",
    "            omega4=0.5, omega3=0.5, omega2=0.5, r21=0.5, r2t2=0.5, r2t3=0.5, r2t4=0.5, g=1,\n",
    "            alpha=0.05, two_tailed=True)"
   ]
  },
  {
   "cell_type": "markdown",
   "metadata": {},
   "source": [
    "**Parameters for BIRA4_1r**"
   ]
  },
  {
   "cell_type": "raw",
   "metadata": {},
   "source": [
    "<table border=\"1\" class=\"docutils\">\n",
    "<colgroup>\n",
    "<col width=\"32%\" />\n",
    "<col width=\"26%\" />\n",
    "<col width=\"26%\" />\n",
    "<col width=\"16%\" />\n",
    "</colgroup>\n",
    "<thead valign=\"bottom\">\n",
    "<tr class=\"row\"><th class=\"head\">Parameters</th>\n",
    "<th class=\"head\"><code class=\"docutils literal notranslate\"><span class=\"pre\">effect_size</span></code></th>\n",
    "<th class=\"head\"><code class=\"docutils literal notranslate\"><span class=\"pre\">sample_size</span></code></th>\n",
    "<th class=\"head\"><code class=\"docutils literal notranslate\"><span class=\"pre\">power</span></code></th>\n",
    "</tr>\n",
    "</thead>\n",
    "<tbody valign=\"top\">\n",
    "<tr class=\"row\"><td><a class=\"hoverxref tooltip reference internal\" data-doc=\"parameters\" data-docpath=\"/parameters.html\" data-project=\"pypowerup\" data-section=\"design\" data-version=\"latest\" href=\"parameters.html#design\"><span class=\"std std-ref\">design</span></a></td>\n",
    "<td>✓</td>\n",
    "<td>✓</td>\n",
    "<td>✓</td>\n",
    "</tr>\n",
    "<tr class=\"row\"><td><a class=\"hoverxref tooltip reference internal\" data-doc=\"parameters\" data-docpath=\"/parameters.html\" data-project=\"pypowerup\" data-section=\"es\" data-version=\"latest\" href=\"parameters.html#es\"><span class=\"std std-ref\">es</span></a></td>\n",
    "<td>&#160;</td>\n",
    "<td>✓</td>\n",
    "<td>✓</td>\n",
    "</tr>\n",
    "<tr class=\"row\"><td><a class=\"hoverxref tooltip reference internal\" data-doc=\"parameters\" data-docpath=\"/parameters.html\" data-project=\"pypowerup\" data-section=\"n\" data-version=\"latest\" href=\"parameters.html#n\"><span class=\"std std-ref\">n</span></a></td>\n",
    "<td>✓</td>\n",
    "<td>✓</td>\n",
    "<td>✓</td>\n",
    "</tr>\n",
    "<tr class=\"row\"><td><a class=\"hoverxref tooltip reference internal\" data-doc=\"parameters\" data-docpath=\"/parameters.html\" data-project=\"pypowerup\" data-section=\"J\" data-version=\"latest\" href=\"parameters.html#J\"><span class=\"std std-ref\">J</span></a></td>\n",
    "<td>✓</td>\n",
    "<td>✓</td>\n",
    "<td>✓</td>\n",
    "</tr>\n",
    "<tr class=\"row\"><td><a class=\"hoverxref tooltip reference internal\" data-doc=\"parameters\" data-docpath=\"/parameters.html\" data-project=\"pypowerup\" data-section=\"K\" data-version=\"latest\" href=\"parameters.html#K\"><span class=\"std std-ref\">K</span></a></td>\n",
    "<td>✓</td>\n",
    "<td>✓</td>\n",
    "<td>✓</td>\n",
    "</tr>\n",
    "<tr class=\"row\"><td><a class=\"hoverxref tooltip reference internal\" data-doc=\"parameters\" data-docpath=\"/parameters.html\" data-project=\"pypowerup\" data-section=\"L\" data-version=\"latest\" href=\"parameters.html#L\"><span class=\"std std-ref\">L</span></a></td>\n",
    "<td>✓</td>\n",
    "<td>&#160;</td>\n",
    "<td>✓</td>\n",
    "</tr>\n",
    "\n",
    "<tr class=\"row\"><td><a class=\"hoverxref tooltip reference internal\" data-doc=\"parameters\" data-docpath=\"/parameters.html\" data-project=\"pypowerup\" data-section=\"power\" data-version=\"latest\" href=\"parameters.html#power\"><span class=\"std std-ref\">power</span></a></td>\n",
    "<td>✓</td>\n",
    "<td>✓</td>\n",
    "<td>&#160;</td>\n",
    "</tr>\n",
    "<tr class=\"row\"><td><a class=\"hoverxref tooltip reference internal\" data-doc=\"parameters\" data-docpath=\"/parameters.html\" data-project=\"pypowerup\" data-section=\"alpha\" data-version=\"latest\" href=\"parameters.html#alpha\"><span class=\"std std-ref\">alpha</span></a></td>\n",
    "<td>✓</td>\n",
    "<td>✓</td>\n",
    "<td>✓</td>\n",
    "</tr>\n",
    "<tr class=\"row\"><td><a class=\"hoverxref tooltip reference internal\" data-doc=\"parameters\" data-docpath=\"/parameters.html\" data-project=\"pypowerup\" data-section=\"two-tailed\" data-version=\"latest\" href=\"parameters.html#two-tailed\"><span class=\"std std-ref\">two_tailed</span></a></td>\n",
    "<td>✓</td>\n",
    "<td>✓</td>\n",
    "<td>✓</td>\n",
    "</tr>\n",
    "<tr class=\"row\"><td><a class=\"hoverxref tooltip reference internal\" data-doc=\"parameters\" data-docpath=\"/parameters.html\" data-project=\"pypowerup\" data-section=\"p\" data-version=\"latest\" href=\"parameters.html#p\"><span class=\"std std-ref\">p</span></a></td>\n",
    "<td>✓</td>\n",
    "<td>✓</td>\n",
    "<td>✓</td>\n",
    "</tr>\n",
    "<tr class=\"row\"><td><a class=\"hoverxref tooltip reference internal\" data-doc=\"parameters\" data-docpath=\"/parameters.html\" data-project=\"pypowerup\" data-section=\"r21\" data-version=\"latest\" href=\"parameters.html#r21\"><span class=\"std std-ref\">r21</span></a></td>\n",
    "<td>✓</td>\n",
    "<td>✓</td>\n",
    "<td>✓</td>\n",
    "</tr>\n",
    "<tr class=\"row\"><td><a class=\"hoverxref tooltip reference internal\" data-doc=\"parameters\" data-docpath=\"/parameters.html\" data-project=\"pypowerup\" data-section=\"g\" data-version=\"latest\" href=\"parameters.html#g\"><span class=\"std std-ref\">g</span></a></td>\n",
    "<td>✓</td>\n",
    "<td>✓</td>\n",
    "<td>✓</td>\n",
    "</tr>\n",
    "<tr class=\"row\"><td><a class=\"hoverxref tooltip reference internal\" data-doc=\"parameters\" data-docpath=\"/parameters.html\" data-project=\"pypowerup\" data-section=\"rho2\" data-version=\"latest\" href=\"parameters.html#rho2\"><span class=\"std std-ref\">rho2</span></a></td>\n",
    "<td>✓</td>\n",
    "<td>✓</td>\n",
    "<td>✓</td>\n",
    "</tr>\n",
    "<tr class=\"row\"><td><a class=\"hoverxref tooltip reference internal\" data-doc=\"parameters\" data-docpath=\"/parameters.html\" data-project=\"pypowerup\" data-section=\"omega2\" data-version=\"latest\" href=\"parameters.html#omega2\"><span class=\"std std-ref\">omega2</span></a></td>\n",
    "<td>✓</td>\n",
    "<td>✓</td>\n",
    "<td>✓</td>\n",
    "</tr>\n",
    "<tr class=\"row\"><td><a class=\"hoverxref tooltip reference internal\" data-doc=\"parameters\" data-docpath=\"/parameters.html\" data-project=\"pypowerup\" data-section=\"r2t2\" data-version=\"latest\" href=\"parameters.html#r2t2\"><span class=\"std std-ref\">r2t2</span></a></td>\n",
    "<td>✓</td>\n",
    "<td>✓</td>\n",
    "<td>✓</td>\n",
    "</tr>\n",
    "<tr class=\"row\"><td><a class=\"hoverxref tooltip reference internal\" data-doc=\"parameters\" data-docpath=\"/parameters.html\" data-project=\"pypowerup\" data-section=\"rho3\" data-version=\"latest\" href=\"parameters.html#rho3\"><span class=\"std std-ref\">rho3</span></a></td>\n",
    "<td>✓</td>\n",
    "<td>✓</td>\n",
    "<td>✓</td>\n",
    "</tr>\n",
    "<tr class=\"row\"><td><a class=\"hoverxref tooltip reference internal\" data-doc=\"parameters\" data-docpath=\"/parameters.html\" data-project=\"pypowerup\" data-section=\"omega3\" data-version=\"latest\" href=\"parameters.html#omega3\"><span class=\"std std-ref\">omega3</span></a></td>\n",
    "<td>✓</td>\n",
    "<td>✓</td>\n",
    "<td>✓</td>\n",
    "</tr>\n",
    "<tr class=\"row\"><td><a class=\"hoverxref tooltip reference internal\" data-doc=\"parameters\" data-docpath=\"/parameters.html\" data-project=\"pypowerup\" data-section=\"r2t3\" data-version=\"latest\" href=\"parameters.html#r2t3\"><span class=\"std std-ref\">r2t3</span></a></td>\n",
    "<td>✓</td>\n",
    "<td>✓</td>\n",
    "<td>✓</td>\n",
    "</tr>\n",
    "<tr class=\"row\"><td><a class=\"hoverxref tooltip reference internal\" data-doc=\"parameters\" data-docpath=\"/parameters.html\" data-project=\"pypowerup\" data-section=\"rho4\" data-version=\"latest\" href=\"parameters.html#rho4\"><span class=\"std std-ref\">rho4</span></a></td>\n",
    "<td>✓</td>\n",
    "<td>✓</td>\n",
    "<td>✓</td>\n",
    "</tr>\n",
    "<tr class=\"row\"><td><a class=\"hoverxref tooltip reference internal\" data-doc=\"parameters\" data-docpath=\"/parameters.html\" data-project=\"pypowerup\" data-section=\"omega4\" data-version=\"latest\" href=\"parameters.html#omega4\"><span class=\"std std-ref\">omega4</span></a></td>\n",
    "<td>✓</td>\n",
    "<td>✓</td>\n",
    "<td>✓</td>\n",
    "</tr>\n",
    "<tr class=\"row\"><td><a class=\"hoverxref tooltip reference internal\" data-doc=\"parameters\" data-docpath=\"/parameters.html\" data-project=\"pypowerup\" data-section=\"r2t4\" data-version=\"latest\" href=\"parameters.html#r2t4\"><span class=\"std std-ref\">r2t4</span></a></td>\n",
    "<td>✓</td>\n",
    "<td>✓</td>\n",
    "<td>✓</td>\n",
    "</tr>\n",
    "\n",
    "</tbody>\n",
    "</table>"
   ]
  }
 ],
 "metadata": {
  "kernelspec": {
   "display_name": "Python 3",
   "language": "python",
   "name": "python3"
  },
  "language_info": {
   "codemirror_mode": {
    "name": "ipython",
    "version": 3
   },
   "file_extension": ".py",
   "mimetype": "text/x-python",
   "name": "python",
   "nbconvert_exporter": "python",
   "pygments_lexer": "ipython3",
   "version": "3.7.7"
  }
 },
 "nbformat": 4,
 "nbformat_minor": 4
}
