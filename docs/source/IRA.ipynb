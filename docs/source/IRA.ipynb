{
 "cells": [
  {
   "cell_type": "markdown",
   "metadata": {},
   "source": [
    "# Simple Individual Random Assignment (IRA)\n",
    "\n",
    "\n",
    "\n",
    "| Assignment | Clustering Level | Treatment Assignment | Treatment Level| Cluster Effect |\n",
    "|:----------:|:----------------:|:--------------------:|:--------------:|:--------------:|\n",
    "| simple     | 1                | individual           | 1              | NA             |\n"
   ]
  },
  {
   "cell_type": "code",
   "execution_count": 1,
   "metadata": {},
   "outputs": [],
   "source": [
    "from pypowerup import effect_size, power, sample_size"
   ]
  },
  {
   "cell_type": "code",
   "execution_count": 10,
   "metadata": {},
   "outputs": [
    {
     "data": {
      "text/plain": [
       "0.19997988869985736"
      ]
     },
     "execution_count": 10,
     "metadata": {},
     "output_type": "execute_result"
    }
   ],
   "source": [
    "# effect size, i.e., minimum detectable effect sizes (MDES):\n",
    "effect_size(design='ira', n=787, power=0.8, alpha=0.05, two_tailed=True, p=0.5, r21=0, g=0)"
   ]
  },
  {
   "cell_type": "code",
   "execution_count": 3,
   "metadata": {},
   "outputs": [
    {
     "data": {
      "text/plain": [
       "787.0"
      ]
     },
     "execution_count": 3,
     "metadata": {},
     "output_type": "execute_result"
    }
   ],
   "source": [
    "# sample size, i.e., minimum required samples sizes (MRSS):\n",
    "sample_size(design='ira', es=0.2, power=0.8, alpha=0.05, two_tailed=True, p=0.5, r21=0, g=0)"
   ]
  },
  {
   "cell_type": "code",
   "execution_count": 11,
   "metadata": {},
   "outputs": [
    {
     "data": {
      "text/plain": [
       "0.8000799952735076"
      ]
     },
     "execution_count": 11,
     "metadata": {},
     "output_type": "execute_result"
    }
   ],
   "source": [
    "# power\n",
    "power(design='ira', es=0.2, n=787, alpha=0.05, two_tailed=True, p=0.5, r21=0, g=0)"
   ]
  },
  {
   "cell_type": "markdown",
   "metadata": {},
   "source": [
    "**Parameters for IRA:**\n",
    "\n",
    "| Parameters |`effect_size` | `sample_size` | `power`| \n",
    "|:----------:|:----------------:|:--------------------:|:--------------:|\n",
    "| design     | &check;          | &check;              | &check;        | \n",
    "| es         |                  | &check;              | &check;        | \n",
    "| n          | &check;          |                      | &check;        | \n",
    "| power      | &check;          | &check;              |                | \n",
    "| alpha      | &check;          | &check;              | &check;        | \n",
    "| two_tailed | &check;          | &check;              | &check;        | \n",
    "| p          | &check;          | &check;              | &check;        | \n",
    "| r21        | &check;          | &check;              | &check;        | \n",
    "| g          | &check;          | &check;              | &check;        | \n",
    "\n",
    "\n",
    "- **design**: please specify your study design. \n",
    "\n",
    "- **n**: please specify your total sample size of both treatment and control group. \n",
    "\n",
    "- **es**: minimum detectable effect sizes, default 0.25. Please change this value according to your design.\n",
    "\n",
    "- **power**: statistical power, 1- Type II error,  default 0.8 (recommended).\n",
    "\n",
    "- **alpha**: Type I error, default 0.05 (recommended).\n",
    "\n",
    "- **two_taied**: whether it is a two-tailed test or a one-tailed test. default True (two-tailed test). \n",
    "\n",
    "- **p**: proportion of the treatment sample $\\frac{n_T}{(n_T+n_C)}$, default 0.50 (i.e., equal samples size for treatment and control)\n",
    "\n",
    "- **r21**: percent of variance in outcome explained by covariates, default 0 \n",
    "\n",
    "- **g**: number of covariates, default 0\n"
   ]
  },
  {
   "cell_type": "markdown",
   "metadata": {},
   "source": [
    "**Output validation with statsmodels** \n",
    "\n",
    "Here we used `statsmodels` with the same parameters to validate our model results. Note nobs1 in `statsmodels` is the sample size for treatment group, which is half of the total sample size output from our model. Thus, we define `nobs1=787/2=393.5` in the models beflow. "
   ]
  },
  {
   "cell_type": "code",
   "execution_count": 5,
   "metadata": {},
   "outputs": [],
   "source": [
    "from statsmodels.stats.power import TTestIndPower"
   ]
  },
  {
   "cell_type": "code",
   "execution_count": 6,
   "metadata": {},
   "outputs": [
    {
     "data": {
      "text/plain": [
       "0.19997768751017836"
      ]
     },
     "execution_count": 6,
     "metadata": {},
     "output_type": "execute_result"
    }
   ],
   "source": [
    "# effect size\n",
    "analysis = TTestIndPower()\n",
    "analysis.solve_power(power=0.8, nobs1=393.5, ratio=1, alpha=0.05, alternative='two-sided')"
   ]
  },
  {
   "cell_type": "code",
   "execution_count": 7,
   "metadata": {},
   "outputs": [
    {
     "data": {
      "text/plain": [
       "393.4056989990335"
      ]
     },
     "execution_count": 7,
     "metadata": {},
     "output_type": "execute_result"
    }
   ],
   "source": [
    "# sample size (statsmodels output treatment sample size only, which is the half of our computed total sample size)\n",
    "analysis.solve_power(0.2, power=0.8, nobs1=None, ratio=1, alpha=0.05,alternative='two-sided')"
   ]
  },
  {
   "cell_type": "code",
   "execution_count": 8,
   "metadata": {},
   "outputs": [
    {
     "data": {
      "text/plain": [
       "0.8000942129794306"
      ]
     },
     "execution_count": 8,
     "metadata": {},
     "output_type": "execute_result"
    }
   ],
   "source": [
    "# power\n",
    "analysis.solve_power(0.2, nobs1=393.5, ratio=1.0, alpha=0.05, alternative='two-sided')"
   ]
  },
  {
   "cell_type": "markdown",
   "metadata": {},
   "source": [
    "With the same parameters, we get the same results as the `statsmodels`. However, `statsmodels` does not do power analysis for more complicated designs, which we will cover next. "
   ]
  }
 ],
 "metadata": {
  "kernelspec": {
   "display_name": "Python 3",
   "language": "python",
   "name": "python3"
  },
  "language_info": {
   "codemirror_mode": {
    "name": "ipython",
    "version": 3
   },
   "file_extension": ".py",
   "mimetype": "text/x-python",
   "name": "python",
   "nbconvert_exporter": "python",
   "pygments_lexer": "ipython3",
   "version": "3.7.7"
  }
 },
 "nbformat": 4,
 "nbformat_minor": 4
}
